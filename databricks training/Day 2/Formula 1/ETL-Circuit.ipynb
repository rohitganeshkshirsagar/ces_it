{
 "cells": [
  {
   "cell_type": "code",
   "execution_count": 0,
   "metadata": {
    "application/vnd.databricks.v1+cell": {
     "cellMetadata": {
      "byteLimit": 2048000,
      "rowLimit": 10000
     },
     "inputWidgets": {},
     "nuid": "678e905c-3946-4bb3-b0e6-f53527edeee3",
     "showTitle": false,
     "tableResultSettingsMap": {
      "0": {
       "dataGridStateBlob": "{\"version\":1,\"tableState\":{\"columnPinning\":{\"left\":[\"#row_number#\"],\"right\":[]},\"columnSizing\":{},\"columnVisibility\":{}},\"settings\":{\"columns\":{\"url\":{\"format\":{\"preset\":\"string-preset-url\"}}}},\"syncTimestamp\":1754114794048}",
       "filterBlob": null,
       "queryPlanFiltersBlob": null,
       "tableResultIndex": 0
      }
     },
     "title": ""
    }
   },
   "outputs": [],
   "source": [
    "df=spark.read.csv(\"/Volumes/dev/formula1/raw/circuits.csv\",header=True,inferSchema=True).display()"
   ]
  },
  {
   "cell_type": "code",
   "execution_count": 0,
   "metadata": {
    "application/vnd.databricks.v1+cell": {
     "cellMetadata": {
      "byteLimit": 2048000,
      "rowLimit": 10000
     },
     "inputWidgets": {},
     "nuid": "097217dc-20ce-4b69-8ff8-ec43c002b88f",
     "showTitle": false,
     "tableResultSettingsMap": {},
     "title": ""
    }
   },
   "outputs": [],
   "source": [
    "from pyspark.sql.functions import *"
   ]
  },
  {
   "cell_type": "code",
   "execution_count": 0,
   "metadata": {
    "application/vnd.databricks.v1+cell": {
     "cellMetadata": {
      "byteLimit": 2048000,
      "rowLimit": 10000
     },
     "inputWidgets": {},
     "nuid": "a709c64f-4122-4b0c-86a1-d501d47172d4",
     "showTitle": false,
     "tableResultSettingsMap": {},
     "title": ""
    }
   },
   "outputs": [],
   "source": [
    "df.withColumnRenamed(\"circuitRef\",\"circuit_ref\").withColumnRenamed(\"circuitId\",\"circuit_Id\").display()"
   ]
  },
  {
   "cell_type": "code",
   "execution_count": 0,
   "metadata": {
    "application/vnd.databricks.v1+cell": {
     "cellMetadata": {
      "byteLimit": 2048000,
      "rowLimit": 10000
     },
     "inputWidgets": {},
     "nuid": "6826182d-5341-4868-94fc-641b1ae494c6",
     "showTitle": false,
     "tableResultSettingsMap": {},
     "title": ""
    }
   },
   "outputs": [],
   "source": [
    "df.withColumn(\"ingestion_date\", current_date())"
   ]
  },
  {
   "cell_type": "code",
   "execution_count": 0,
   "metadata": {
    "application/vnd.databricks.v1+cell": {
     "cellMetadata": {
      "byteLimit": 2048000,
      "rowLimit": 10000
     },
     "inputWidgets": {},
     "nuid": "2a094351-cf61-4999-9a67-7d495dc04f35",
     "showTitle": true,
     "tableResultSettingsMap": {},
     "title": "Test not working"
    }
   },
   "outputs": [],
   "source": [
    " df=spark.read.csv(\"/Volumes/dev/formula1/raw/circuits.csv\",header=True,inferSchema=True)\n",
    "\n",
    "df_final=df\\ \n",
    ".withColumnsRenamed({\"circuitId\":\"circuit_id\",\"circuitRef\":\"circuit_ref\"})\\ \n",
    ".withColumn(\"ingestion_date\",current_date())\\ \n",
    ".drop(\"url\") \n",
    "\n",
    "df_final.write.mode(\"overwrite\").saveAsTable(\"dev.formula1.circuits\") "
   ]
  },
  {
   "cell_type": "code",
   "execution_count": 0,
   "metadata": {
    "application/vnd.databricks.v1+cell": {
     "cellMetadata": {
      "byteLimit": 2048000,
      "rowLimit": 10000
     },
     "inputWidgets": {},
     "nuid": "987fa640-880e-40e6-bd86-52444ab45a73",
     "showTitle": false,
     "tableResultSettingsMap": {},
     "title": ""
    }
   },
   "outputs": [],
   "source": [
    "from pyspark.sql import SparkSession\n",
    "from pyspark.sql.functions import current_date\n",
    "\n",
    "# Start Spark session\n",
    "spark = SparkSession.builder.appName(\"Circuits\").getOrCreate()\n",
    "\n",
    "# Read CSV file\n",
    "df = spark.read.csv(\"/Volumes/dev/formula1/raw/circuits.csv\", header=True, inferSchema=True)\n",
    "\n",
    "# Transform DataFrame\n",
    "df_final = df \\\n",
    "    .withColumnRenamed(\"circuitId\", \"circuit_id\") \\\n",
    "    .withColumnRenamed(\"circuitRef\", \"circuit_ref\") \\\n",
    "    .withColumn(\"ingestion_date\", current_date()) \\\n",
    "    .drop(\"url\")\n",
    "\n",
    "# Write to table\n",
    "df_final.write.mode(\"overwrite\").saveAsTable(\"dev.formula1.circuits\")\n"
   ]
  },
  {
   "cell_type": "code",
   "execution_count": 0,
   "metadata": {
    "application/vnd.databricks.v1+cell": {
     "cellMetadata": {
      "byteLimit": 2048000,
      "rowLimit": 10000
     },
     "inputWidgets": {},
     "nuid": "6b8054d9-16e2-401f-9955-69315959c7ce",
     "showTitle": true,
     "tableResultSettingsMap": {},
     "title": "Final"
    }
   },
   "outputs": [],
   "source": [
    "# Read CSV file\n",
    "df = spark.read.csv(\"/Volumes/dev/formula1/raw/circuits.csv\", header=True, inferSchema=True)\n",
    "\n",
    "# Transform DataFrame\n",
    "df_final = df \\\n",
    "    .withColumnRenamed(\"circuitId\", \"circuit_id\") \\\n",
    "    .withColumnRenamed(\"circuitRef\", \"circuit_ref\") \\\n",
    "    .withColumn(\"ingestion_date\", current_date()) \\\n",
    "    .drop(\"url\")\n",
    "\n",
    "# Write to table\n",
    "df_final.write.mode(\"overwrite\").saveAsTable(\"dev.formula1.circuits\")"
   ]
  },
  {
   "cell_type": "code",
   "execution_count": 0,
   "metadata": {
    "application/vnd.databricks.v1+cell": {
     "cellMetadata": {
      "byteLimit": 2048000,
      "implicitDf": true,
      "rowLimit": 10000
     },
     "inputWidgets": {},
     "nuid": "42af199e-f156-4ba4-850f-2c98dd89ab30",
     "showTitle": false,
     "tableResultSettingsMap": {},
     "title": ""
    }
   },
   "outputs": [],
   "source": [
    "%sql\n",
    "select * from dev.formula1.circuits"
   ]
  },
  {
   "cell_type": "code",
   "execution_count": 0,
   "metadata": {
    "application/vnd.databricks.v1+cell": {
     "cellMetadata": {},
     "inputWidgets": {},
     "nuid": "dec13ae5-9391-4299-9d38-758935a8613d",
     "showTitle": false,
     "tableResultSettingsMap": {},
     "title": ""
    }
   },
   "outputs": [],
   "source": []
  }
 ],
 "metadata": {
  "application/vnd.databricks.v1+notebook": {
   "computePreferences": {
    "hardware": {
     "accelerator": null,
     "gpuPoolId": null,
     "memory": null
    }
   },
   "dashboards": [],
   "environmentMetadata": {
    "base_environment": "",
    "environment_version": "2"
   },
   "inputWidgetPreferences": null,
   "language": "python",
   "notebookMetadata": {
    "mostRecentlyExecutedCommandWithImplicitDF": {
     "commandId": 4865426317833921,
     "dataframes": [
      "_sqldf"
     ]
    },
    "pythonIndentUnit": 4
   },
   "notebookName": "ETL-Circuit",
   "widgets": {}
  },
  "language_info": {
   "name": "python"
  }
 },
 "nbformat": 4,
 "nbformat_minor": 0
}
