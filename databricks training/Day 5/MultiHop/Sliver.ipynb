{
 "cells": [
  {
   "cell_type": "code",
   "execution_count": 0,
   "metadata": {
    "application/vnd.databricks.v1+cell": {
     "cellMetadata": {
      "byteLimit": 2048000,
      "rowLimit": 10000
     },
     "inputWidgets": {},
     "nuid": "824ce384-98fd-44f3-a0d8-4f1318268c14",
     "showTitle": false,
     "tableResultSettingsMap": {},
     "title": ""
    }
   },
   "outputs": [],
   "source": [
    "df=spark.read.table(\"dev.bronze.sales\")"
   ]
  },
  {
   "cell_type": "code",
   "execution_count": 0,
   "metadata": {
    "application/vnd.databricks.v1+cell": {
     "cellMetadata": {
      "byteLimit": 2048000,
      "rowLimit": 10000
     },
     "inputWidgets": {},
     "nuid": "43a23af3-5074-406b-ae15-98982c69e338",
     "showTitle": false,
     "tableResultSettingsMap": {},
     "title": ""
    }
   },
   "outputs": [],
   "source": [
    "df_final=df.dropDuplicates().dropna().drop(\"ingestion_date\")"
   ]
  },
  {
   "cell_type": "code",
   "execution_count": 0,
   "metadata": {
    "application/vnd.databricks.v1+cell": {
     "cellMetadata": {
      "byteLimit": 2048000,
      "rowLimit": 10000
     },
     "inputWidgets": {},
     "nuid": "d2b8b8fd-53eb-4c3a-ac29-3f35800beadf",
     "showTitle": false,
     "tableResultSettingsMap": {},
     "title": ""
    }
   },
   "outputs": [],
   "source": [
    "df_final.write.mode(\"overwrite\").saveAsTable(\"dev.silver.sales_cleaned\")"
   ]
  },
  {
   "cell_type": "code",
   "execution_count": 0,
   "metadata": {
    "application/vnd.databricks.v1+cell": {
     "cellMetadata": {
      "byteLimit": 2048000,
      "implicitDf": true,
      "rowLimit": 10000
     },
     "inputWidgets": {},
     "nuid": "0b8b16be-d127-487f-be8c-3c706e76e754",
     "showTitle": false,
     "tableResultSettingsMap": {},
     "title": ""
    }
   },
   "outputs": [],
   "source": [
    "%sql\n",
    "DROP TABLE dev.silver.sales;"
   ]
  },
  {
   "cell_type": "code",
   "execution_count": 0,
   "metadata": {
    "application/vnd.databricks.v1+cell": {
     "cellMetadata": {
      "byteLimit": 2048000,
      "implicitDf": true,
      "rowLimit": 10000
     },
     "inputWidgets": {},
     "nuid": "ba7bf2dd-d192-4d6e-84da-2ff755362720",
     "showTitle": false,
     "tableResultSettingsMap": {},
     "title": ""
    }
   },
   "outputs": [],
   "source": [
    "%sql\n",
    "----select * from dev.silver.sales_cleaned"
   ]
  },
  {
   "cell_type": "markdown",
   "metadata": {
    "application/vnd.databricks.v1+cell": {
     "cellMetadata": {},
     "inputWidgets": {},
     "nuid": "7513e973-256e-4aab-99ee-5124228a1b00",
     "showTitle": false,
     "tableResultSettingsMap": {},
     "title": ""
    }
   },
   "source": [
    "Sliver\n"
   ]
  },
  {
   "cell_type": "code",
   "execution_count": 0,
   "metadata": {
    "application/vnd.databricks.v1+cell": {
     "cellMetadata": {
      "byteLimit": 2048000,
      "rowLimit": 10000
     },
     "inputWidgets": {},
     "nuid": "6b6fda2c-7cd5-4bb3-b328-3f8c7851a677",
     "showTitle": false,
     "tableResultSettingsMap": {},
     "title": ""
    }
   },
   "outputs": [],
   "source": [
    "df=spark.read.table(\"dev.bronze.sales\") \n",
    "\n",
    "df_final=df.dropDuplicates().dropna().drop(\"ingestion_date\") \n",
    "\n",
    "df_final.write.mode(\"overwrite\").saveAsTable(\"dev.silver.sales_cleaned\") \n"
   ]
  },
  {
   "cell_type": "code",
   "execution_count": 0,
   "metadata": {
    "application/vnd.databricks.v1+cell": {
     "cellMetadata": {
      "byteLimit": 2048000,
      "implicitDf": true,
      "rowLimit": 10000
     },
     "inputWidgets": {},
     "nuid": "ef90f831-aa95-4373-b0f7-d2006a9ba21f",
     "showTitle": false,
     "tableResultSettingsMap": {},
     "title": ""
    }
   },
   "outputs": [],
   "source": [
    "\n",
    "%sql \n",
    "\n",
    "CREATE OR REPLACE TABLE dev.silver.products_scd (product_id int, product_name string, product_category string, product_price double) "
   ]
  },
  {
   "cell_type": "code",
   "execution_count": 0,
   "metadata": {
    "application/vnd.databricks.v1+cell": {
     "cellMetadata": {
      "byteLimit": 2048000,
      "implicitDf": true,
      "rowLimit": 10000
     },
     "inputWidgets": {},
     "nuid": "34629328-959e-47eb-96ef-6f38518db509",
     "showTitle": true,
     "tableResultSettingsMap": {},
     "title": "SCD Type 1"
    }
   },
   "outputs": [],
   "source": [
    "%sql \n",
    "WITH deduplicated_source AS ( \n",
    "SELECT\n",
    "s.*, \n",
    "ROW_NUMBER() OVER (PARTITION BY product_id ORDER BY seqNum DESC) as row_num \n",
    "FROM dev.bronze.product s \n",
    ") \n",
    "MERGE INTO dev.silver.products_scd t \n",
    "USING (SELECT * FROM deduplicated_source WHERE row_num = 1 \n",
    ") s \n",
    "ON t.product_id = s.product_id \n",
    "WHEN MATCHED and s.operation='UPDATE'  \n",
    "THEN  \n",
    "UPDATE SET  \n",
    "t.product_name = s.product_name, \n",
    "t.product_category = s.product_category, \n",
    "t.product_price = s.product_price \n",
    "WHEN MATCHED AND s.operation='DELETE' \n",
    "THEN  \n",
    "DELETE \n",
    "WHEN NOT MATCHED THEN  \n",
    "INSERT  \n",
    "(product_id, product_name, product_category, product_price)  \n",
    "VALUES  \n",
    "(s.product_id, s.product_name, s.product_category, s.product_price) \n"
   ]
  },
  {
   "cell_type": "code",
   "execution_count": 0,
   "metadata": {
    "application/vnd.databricks.v1+cell": {
     "cellMetadata": {
      "byteLimit": 2048000,
      "implicitDf": true,
      "rowLimit": 10000
     },
     "inputWidgets": {},
     "nuid": "dd46050e-ad56-4141-8d69-85c43367319e",
     "showTitle": false,
     "tableResultSettingsMap": {},
     "title": ""
    }
   },
   "outputs": [],
   "source": [
    "%sql\n",
    "select * from dev.silver.products_scd "
   ]
  },
  {
   "cell_type": "code",
   "execution_count": 0,
   "metadata": {
    "application/vnd.databricks.v1+cell": {
     "cellMetadata": {
      "byteLimit": 2048000,
      "implicitDf": true,
      "rowLimit": 10000
     },
     "inputWidgets": {},
     "nuid": "f03e78c0-6d26-4334-adc5-1a21be9dadd3",
     "showTitle": false,
     "tableResultSettingsMap": {},
     "title": ""
    }
   },
   "outputs": [],
   "source": [
    "%sql\n",
    "select * from dev.bronze.customers"
   ]
  },
  {
   "cell_type": "code",
   "execution_count": 0,
   "metadata": {
    "application/vnd.databricks.v1+cell": {
     "cellMetadata": {},
     "inputWidgets": {},
     "nuid": "a76c0ee5-eefe-409c-abbb-4fea22927f5b",
     "showTitle": false,
     "tableResultSettingsMap": {},
     "title": ""
    }
   },
   "outputs": [],
   "source": [
    "%sql\n",
    "CREATE OR REPLACE TABLE dev.silver.customers_scd (customer_id int, customer_name string, customer_email string, customer_city string, customer_state string, is_current BOOLEAN,effective_date date, end_date date, version_number int ) "
   ]
  },
  {
   "cell_type": "code",
   "execution_count": 0,
   "metadata": {
    "application/vnd.databricks.v1+cell": {
     "cellMetadata": {},
     "inputWidgets": {},
     "nuid": "89593792-fde8-48dd-bb15-40240ba2334a",
     "showTitle": true,
     "tableResultSettingsMap": {},
     "title": "SCD Type 2 Customers"
    }
   },
   "outputs": [],
   "source": [
    "%sql\n",
    "\n",
    "-- Step 1: Deduplicate source\n",
    "WITH deduplicated_source AS (\n",
    "  SELECT *,\n",
    "         ROW_NUMBER() OVER (PARTITION BY customer_id ORDER BY seqNum DESC) AS row_num\n",
    "  FROM dev.bronze.customers\n",
    "),\n",
    "\n",
    "-- Step 2: Filter for latest records\n",
    "latest_source AS (\n",
    "  SELECT * FROM deduplicated_source\n",
    "  WHERE row_num = 1\n",
    "),\n",
    "\n",
    "-- Step 3: Find records that need to be updated (i.e., values changed)\n",
    "changed_records AS (\n",
    "  SELECT s.*\n",
    "  FROM latest_source s\n",
    "  JOIN dev.silver.customers_scd t\n",
    "    ON s.customer_id = t.customer_id\n",
    "   AND t.is_current = true\n",
    "  WHERE s.operation = 'UPDATE'\n",
    "    AND (\n",
    "         s.customer_name != t.customer_name OR\n",
    "         s.customer_email != t.customer_email OR\n",
    "         s.customer_address != t.customer_address\n",
    "       )\n",
    ")\n",
    "\n",
    "-- Step 4: Apply SCD Type 2 logic\n",
    "MERGE INTO dev.silver.customers_scd t\n",
    "USING latest_source s\n",
    "ON t.customer_id = s.customer_id AND t.is_current = true\n",
    "\n",
    "-- Close out old record if changed\n",
    "WHEN MATCHED AND s.operation = 'UPDATE'\n",
    "     AND (\n",
    "          s.customer_name != t.customer_name OR\n",
    "          s.customer_email != t.customer_email OR\n",
    "          s.customer_address != t.customer_address\n",
    "     )\n",
    "THEN UPDATE SET\n",
    "  t.is_current = false,\n",
    "  t.end_date = current_timestamp()\n",
    "\n",
    "-- Mark deleted records as no longer current\n",
    "WHEN MATCHED AND s.operation = 'DELETE'\n",
    "THEN UPDATE SET\n",
    "  t.is_current = false,\n",
    "  t.end_date = current_timestamp()\n",
    "\n",
    "-- Insert new version (either new or updated)\n",
    "WHEN NOT MATCHED AND s.operation != 'DELETE' THEN\n",
    "INSERT (\n",
    "  customer_id,\n",
    "  customer_name,\n",
    "  customer_email,\n",
    "  customer_address,\n",
    "  is_current,\n",
    "  start_date,\n",
    "  end_date\n",
    ")\n",
    "VALUES (\n",
    "  s.customer_id,\n",
    "  s.customer_name,\n",
    "  s.customer_email,\n",
    "  s.customer_address,\n",
    "  true,\n",
    "  current_timestamp(),\n",
    "  null\n",
    ")\n"
   ]
  }
 ],
 "metadata": {
  "application/vnd.databricks.v1+notebook": {
   "computePreferences": null,
   "dashboards": [],
   "environmentMetadata": {
    "base_environment": "",
    "environment_version": "2"
   },
   "inputWidgetPreferences": null,
   "language": "python",
   "notebookMetadata": {
    "mostRecentlyExecutedCommandWithImplicitDF": {
     "commandId": 6403985019123062,
     "dataframes": [
      "_sqldf"
     ]
    },
    "pythonIndentUnit": 4
   },
   "notebookName": "Sliver",
   "widgets": {}
  },
  "language_info": {
   "name": "python"
  }
 },
 "nbformat": 4,
 "nbformat_minor": 0
}
